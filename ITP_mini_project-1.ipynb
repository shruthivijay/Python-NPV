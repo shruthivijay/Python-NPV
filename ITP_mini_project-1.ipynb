{
 "cells": [
  {
   "cell_type": "markdown",
   "metadata": {},
   "source": [
    "# <center>PGP Data Science Engineering</center>\n",
    "## <center>Introduction to Programming – Mini Project:</center>\n"
   ]
  },
  {
   "cell_type": "markdown",
   "metadata": {},
   "source": [
    "### Problem 1:\n",
    "\n",
    "1. Write a program to calculate area of shapes. Your program should be capable of calculating the area of a square, rectangle, triangle and a circle. The user should be presented with options to select the shape. Based on which shape is chosed by the user, the program should ask for the appropriate input and print the resulting area on the screen.\n",
    "\n",
    "When the program is run, the screen should display something like this:\n",
    "\n",
    "**Which shape would you like to calculate the area for? Please enter the option number-**<br>\n",
    "**1. Square**<br>\n",
    "**2. Rectangle**<br>\n",
    "**3. Triangle**<br>\n",
    "**4. Circle**<br>\n",
    "**Enter Option: _**\n",
    "\n",
    "Say the user enters the option 1.\n",
    "\n",
    "**Please enter the length of a side: _**\n",
    "\n",
    "If the user enters a value of 5. The output should be:\n",
    "\n",
    "**The area of the square is 25**\n",
    "\n",
    "This program should indicate that the input is invalid if the user enters a character instead of a number as input. For instance if the user enters a value of ‘a’ instead of 5 in the previous example the program should prompt:\n",
    "\n",
    "**Invalid input, please enter a number: _**\n"
   ]
  },
  {
   "cell_type": "code",
   "execution_count": 10,
   "metadata": {},
   "outputs": [
    {
     "name": "stdout",
     "output_type": "stream",
     "text": [
      "Which shape would you like to calculate the area for? Please enter the option number-\n",
      "1. Square\n",
      "2. Rectangle\n",
      "3. Triangle\n",
      "4. Circle\n",
      "Enter Option:4\n",
      "Please enter the radius of a circle: t\n",
      "Invalid input, please enter a number: 4\n",
      "The area of the circle is  50.29\n"
     ]
    }
   ],
   "source": [
    "user_input=input('''Which shape would you like to calculate the area for? Please enter the option number-\n",
    "1. Square\n",
    "2. Rectangle\n",
    "3. Triangle\n",
    "4. Circle\n",
    "Enter Option:''')\n",
    "if user_input=='1':\n",
    "    a=input('Please enter the length of a side: ')\n",
    "    if a.isalpha():\n",
    "        a1=input('Invalid input, please enter a number: ')\n",
    "        print('The area of the square is ',int(a1)**2)\n",
    "    else:\n",
    "        print('The area of the square is ',int(a)**2)\n",
    "elif  user_input=='2':\n",
    "    l=input('Please enter the length of a rectangle: ')\n",
    "    b=input('Please enter the breadth of a rectangle: ')\n",
    "    if l.isalpha() or b.isalpha():\n",
    "        l1=input('Invalid input, please enter a length: ')\n",
    "        b1=input('Invalid input, please enter a bredth: ')\n",
    "        print('The area of the rectangle is ',int(l1)*int(b1))\n",
    "    else: \n",
    "        print('The area of the rectangle is ',int(l)*int(b))\n",
    "elif user_input=='3':\n",
    "    h=input('Please enter the height of a trianglle: ')\n",
    "    b=input('Please enter the base of a triangle: ')\n",
    "    if h.isalpha() or b.isalpha():\n",
    "        h1=input('Invalid input, please enter a number height: ')\n",
    "        b1=input('Invalid input, please enter a number base: ')\n",
    "        print('The area of the triangle is ',int(h1)*(int(b1)/2))\n",
    "    else:\n",
    "        print('The area of the triangle is ',int(h)*(int(b)/2))\n",
    "elif user_input=='4':\n",
    "    r=input('Please enter the radius of a circle: ')\n",
    "    if r.isalpha():\n",
    "        r1=input('Invalid input, please enter a number: ')\n",
    "        print('The area of the circle is ',round((22/7)*(int(r1)**2),2))\n",
    "    else:\n",
    "        print('The area of the circle is ',round((22/7)*(int(r)**2),2))\n"
   ]
  },
  {
   "cell_type": "markdown",
   "metadata": {},
   "source": [
    "### Problem 2:\n",
    "\n",
    "Create and encrypter in python based on the ceaser cipher. It is a substitution cipher where each character of the original text is shifted a certain number characters in the alphabet. Write a function that would require 2 arguments – the input text to be encrypted and a key. For eg: Given the input text ‘hello’ and the key 3, the resulting encryted text would be ‘khoor’. Here you can see that every character in the string hello is shifted by 3 characters. ‘h’ has shifted to ‘k’, ‘e’ has shifted to ‘h’ and so on. If a key of 5 were used, the resulting string would be ‘mjqqt’. This function should be capable of ignoring any characters which are not alphabets. Th2 character ‘z’ entered b\n",
    "y the user for a key of 3 would result in ‘c’.\n",
    "\n",
    "Usage:<br>\n",
    "**encrypt(‘hello world!’, 3)**<br>\n",
    "**‘khoor zruog!’**\n",
    "\n",
    "Similarly create decrypter which can decode the encryted text when provided the input text and key\n",
    "\n",
    "Usage:<br>\n",
    "**decrypt(‘khoor zruog!’, 3)**<br>\n",
    "**‘hello world!’**\n",
    "\n",
    "For the sake of simplicity you can assume that input solely consists of lowercase alphabets, spaces and punctuation symbols. Numbers in the input text would also be ignored similar to symbols."
   ]
  },
  {
   "cell_type": "code",
   "execution_count": 15,
   "metadata": {},
   "outputs": [],
   "source": [
    "def encrypt(p,n):\n",
    "    p=p\n",
    "    n=int(n)\n",
    "    l=[]\n",
    "    for i in p:\n",
    "        if i.isalpha():\n",
    "            x=ord(i)+n\n",
    "            if x>ord('z'):\n",
    "                x1=ord('a')+(x-ord('z'))\n",
    "                x2=chr(x1-1)    \n",
    "                l.append(x2)\n",
    "            else:\n",
    "                y=chr(x)\n",
    "                l.append(y)\n",
    "        else:\n",
    "            l.append(i)\n",
    "    \n",
    "    return print(''.join(l))    "
   ]
  },
  {
   "cell_type": "code",
   "execution_count": 16,
   "metadata": {},
   "outputs": [
    {
     "name": "stdout",
     "output_type": "stream",
     "text": [
      "abc %123!\n"
     ]
    }
   ],
   "source": [
    "encrypt('xyz %123!',3)"
   ]
  },
  {
   "cell_type": "code",
   "execution_count": 17,
   "metadata": {},
   "outputs": [],
   "source": [
    "def decrypt(p,n):\n",
    "    p=p\n",
    "    n=int(n)\n",
    "    l=[]\n",
    "    for i in p:\n",
    "        if i.isalpha():\n",
    "            x=ord(i)-n\n",
    "            if x<ord('a'):\n",
    "                x1=ord('z')-(ord('a')-x)\n",
    "                x2=chr(x1+1)    \n",
    "                l.append(x2)\n",
    "            else:\n",
    "                y=chr(x)\n",
    "                l.append(y)\n",
    "        else:\n",
    "            l.append(i)\n",
    "    \n",
    "    return print(''.join(l))    "
   ]
  },
  {
   "cell_type": "code",
   "execution_count": 18,
   "metadata": {},
   "outputs": [
    {
     "name": "stdout",
     "output_type": "stream",
     "text": [
      "xyz @123!\n"
     ]
    }
   ],
   "source": [
    "decrypt('abc @123!',3)"
   ]
  },
  {
   "cell_type": "code",
   "execution_count": null,
   "metadata": {},
   "outputs": [],
   "source": []
  }
 ],
 "metadata": {
  "kernelspec": {
   "display_name": "Python 3",
   "language": "python",
   "name": "python3"
  },
  "language_info": {
   "codemirror_mode": {
    "name": "ipython",
    "version": 3
   },
   "file_extension": ".py",
   "mimetype": "text/x-python",
   "name": "python",
   "nbconvert_exporter": "python",
   "pygments_lexer": "ipython3",
   "version": "3.8.3"
  }
 },
 "nbformat": 4,
 "nbformat_minor": 2
}
